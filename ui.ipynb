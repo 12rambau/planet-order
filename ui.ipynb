{
 "cells": [
  {
   "cell_type": "code",
   "execution_count": null,
   "metadata": {},
   "outputs": [],
   "source": [
    "from sepal_ui import sepalwidgets as sw"
   ]
  },
  {
   "cell_type": "code",
   "execution_count": null,
   "metadata": {},
   "outputs": [],
   "source": [
    "appBar = sw.AppBar('Planet ordering module')"
   ]
  },
  {
   "cell_type": "code",
   "execution_count": null,
   "metadata": {},
   "outputs": [],
   "source": [
    "# add all the tiles\n",
    "%run 'aoi_selector_ui.ipynb'\n",
    "%run 'explorer_ui.ipynb'\n",
    "\n",
    "content = [aoi_tile, explorer_tile]"
   ]
  },
  {
   "cell_type": "code",
   "execution_count": null,
   "metadata": {},
   "outputs": [],
   "source": [
    "items = [\n",
    "    sw.DrawerItem('AOI selection', 'mdi-map-marker-check', card=\"aoi_widget\"),\n",
    "    sw.DrawerItem('Retrieve images', 'mdi-download', card=\"explorer_tile\")\n",
    "]\n",
    "\n",
    "code_link = \"https://github.com/12rambau/planet-order\"\n",
    "wiki_link = \"https://github.com/12rambau/planet-order/blob/master/README.md\"\n",
    "issue_link = \"https://github.com/12rambau/planet-order/issues/new\"\n",
    "\n",
    "drawer = sw.NavDrawer(items, code = code_link, wiki = wiki_link, issue = issue_link)"
   ]
  },
  {
   "cell_type": "code",
   "execution_count": null,
   "metadata": {},
   "outputs": [],
   "source": [
    "# build the app \n",
    "app = sw.App(\n",
    "    tiles=content, \n",
    "    appBar=appBar,\n",
    "    navDrawer=drawer\n",
    ").show_tile('aoi_widget')"
   ]
  },
  {
   "cell_type": "code",
   "execution_count": null,
   "metadata": {},
   "outputs": [],
   "source": [
    "app"
   ]
  },
  {
   "cell_type": "code",
   "execution_count": null,
   "metadata": {},
   "outputs": [],
   "source": []
  }
 ],
 "metadata": {
  "kernelspec": {
   "display_name": "Python 3",
   "language": "python",
   "name": "python3"
  },
  "language_info": {
   "codemirror_mode": {
    "name": "ipython",
    "version": 3
   },
   "file_extension": ".py",
   "mimetype": "text/x-python",
   "name": "python",
   "nbconvert_exporter": "python",
   "pygments_lexer": "ipython3",
   "version": "3.6.9"
  }
 },
 "nbformat": 4,
 "nbformat_minor": 4
}
