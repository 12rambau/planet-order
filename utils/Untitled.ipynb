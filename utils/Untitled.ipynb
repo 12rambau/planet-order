{
 "cells": [
  {
   "cell_type": "code",
   "execution_count": 1,
   "id": "pharmaceutical-version",
   "metadata": {},
   "outputs": [],
   "source": [
    "from pathlib import Path"
   ]
  },
  {
   "cell_type": "code",
   "execution_count": 5,
   "id": "radical-university",
   "metadata": {},
   "outputs": [
    {
     "data": {
      "text/plain": [
       "True"
      ]
     },
     "execution_count": 5,
     "metadata": {},
     "output_type": "execute_result"
    }
   ],
   "source": [
    "init_grid = Path('planet_grid.geojson')\n",
    "csv_grid = Path('planet_grid.csv')\n",
    "init_grid.is_file()"
   ]
  },
  {
   "cell_type": "code",
   "execution_count": 19,
   "id": "stupid-batch",
   "metadata": {},
   "outputs": [
    {
     "name": "stderr",
     "output_type": "stream",
     "text": [
      "100%|█████████▉| 900123/900130 [01:30<00:00, 9982.21it/s] \n"
     ]
    }
   ],
   "source": [
    "import json \n",
    "from shapely import geometry as sg\n",
    "from tqdm import tqdm \n",
    "\n",
    "with init_grid.open() as f:\n",
    "    count = 0 \n",
    "    for l in f:\n",
    "        count += 1\n",
    "\n",
    "with init_grid.open() as src, csv_grid.open('w') as dst:\n",
    "    \n",
    "    dst.write('name, x, y, bounds\\n')\n",
    "    \n",
    "    with tqdm(total = count) as pbar:\n",
    "        for line in src:\n",
    "\n",
    "            if line.startswith('{\"type\":'):\n",
    "                \n",
    "                # strip it and remove the comma \n",
    "                tmp = line.strip()\n",
    "                if tmp.endswith(','):\n",
    "                    tmp = tmp[:-1]\n",
    "\n",
    "                feat = json.loads(tmp)\n",
    "\n",
    "                name = feat['properties']['name']\n",
    "                xcoord = feat['properties']['x']\n",
    "                ycoord = feat['properties']['y']\n",
    "                bounds = sg.Polygon(feat['geometry']['coordinates'][0][0]).bounds\n",
    "\n",
    "                dst.write(f'{name}, {xcoord}, {ycoord}, [{\",\".join([str(b) for b in bounds])}]\\n')\n",
    "\n",
    "                pbar.update()"
   ]
  },
  {
   "cell_type": "code",
   "execution_count": 20,
   "id": "provincial-mailing",
   "metadata": {},
   "outputs": [
    {
     "data": {
      "text/plain": [
       "97682092"
      ]
     },
     "execution_count": 20,
     "metadata": {},
     "output_type": "execute_result"
    }
   ],
   "source": [
    "csv_grid.stat().st_size"
   ]
  },
  {
   "cell_type": "code",
   "execution_count": null,
   "id": "adjusted-pasta",
   "metadata": {},
   "outputs": [],
   "source": []
  }
 ],
 "metadata": {
  "kernelspec": {
   "display_name": "Python 3",
   "language": "python",
   "name": "python3"
  },
  "language_info": {
   "codemirror_mode": {
    "name": "ipython",
    "version": 3
   },
   "file_extension": ".py",
   "mimetype": "text/x-python",
   "name": "python",
   "nbconvert_exporter": "python",
   "pygments_lexer": "ipython3",
   "version": "3.6.9"
  }
 },
 "nbformat": 4,
 "nbformat_minor": 5
}
