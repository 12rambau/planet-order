{
 "metadata": {
  "language_info": {
   "codemirror_mode": {
    "name": "ipython",
    "version": 3
   },
   "file_extension": ".py",
   "mimetype": "text/x-python",
   "name": "python",
   "nbconvert_exporter": "python",
   "pygments_lexer": "ipython3",
   "version": 3
  },
  "orig_nbformat": 2
 },
 "nbformat": 4,
 "nbformat_minor": 2,
 "cells": [
  {
   "cell_type": "code",
   "execution_count": null,
   "metadata": {},
   "outputs": [],
   "source": [
    "from sepal_ui import aoi as sw\n",
    "\n",
    "#create the asset variables object \n",
    "po_aoi_io = sw.Aoi_io()\n",
    "\n",
    "#create the tile \n",
    "po_aoi = sw.TileAoi(po_aoi_io)\n",
    "\n",
    "#this tile will only be displayed if voila is launch from this notebook \n",
    "po_aoi"
   ]
  }
 ]
}