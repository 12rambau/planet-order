{
 "cells": [
  {
   "cell_type": "code",
   "execution_count": 1,
   "id": "honest-planner",
   "metadata": {},
   "outputs": [
    {
     "data": {
      "application/vnd.jupyter.widget-view+json": {
       "model_id": "b5d94cdd25e344f3a47e8b44a3de4dbf",
       "version_major": 2,
       "version_minor": 0
      },
      "text/plain": [
       "Styles()"
      ]
     },
     "metadata": {},
     "output_type": "display_data"
    },
    {
     "data": {
      "application/vnd.jupyter.widget-view+json": {
       "model_id": "ee6cc0a48ad643588c0773f6d8cb7813",
       "version_major": 2,
       "version_minor": 0
      },
      "text/plain": [
       "ResizeTrigger()"
      ]
     },
     "metadata": {},
     "output_type": "display_data"
    }
   ],
   "source": [
    "from component import io\n",
    "from component import tile"
   ]
  },
  {
   "cell_type": "code",
   "execution_count": 2,
   "id": "victorian-sequence",
   "metadata": {},
   "outputs": [],
   "source": [
    "# debugging \n",
    "#from sepal_ui import aoi \n",
    "#po_aoi_io = aoi.Aoi_io(default_asset = \"users/bornToBeAlive/aoi_sandan\")"
   ]
  },
  {
   "cell_type": "code",
   "execution_count": 3,
   "id": "sublime-alfred",
   "metadata": {},
   "outputs": [],
   "source": [
    "explorer_tile = tile.ExplorerTile()"
   ]
  },
  {
   "cell_type": "code",
   "execution_count": 4,
   "id": "technical-african",
   "metadata": {},
   "outputs": [
    {
     "data": {
      "application/vnd.jupyter.widget-view+json": {
       "model_id": "7de0b01c31eb4af6b3f7c7ef15887984",
       "version_major": 2,
       "version_minor": 0
      },
      "text/plain": [
       "ExplorerTile(align_center=True, children=[Card(children=[Html(children=['Explore planet data'], tag='h2'), Fle…"
      ]
     },
     "metadata": {},
     "output_type": "display_data"
    }
   ],
   "source": [
    "explorer_tile"
   ]
  },
  {
   "cell_type": "code",
   "execution_count": null,
   "id": "lucky-holocaust",
   "metadata": {},
   "outputs": [],
   "source": []
  }
 ],
 "metadata": {
  "kernelspec": {
   "display_name": "Python 3",
   "language": "python",
   "name": "python3"
  },
  "language_info": {
   "codemirror_mode": {
    "name": "ipython",
    "version": 3
   },
   "file_extension": ".py",
   "mimetype": "text/x-python",
   "name": "python",
   "nbconvert_exporter": "python",
   "pygments_lexer": "ipython3",
   "version": "3.6.9"
  }
 },
 "nbformat": 4,
 "nbformat_minor": 5
}
