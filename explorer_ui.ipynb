{
 "cells": [
  {
   "cell_type": "code",
   "execution_count": 1,
   "id": "immediate-north",
   "metadata": {},
   "outputs": [
    {
     "data": {
      "application/vnd.jupyter.widget-view+json": {
       "model_id": "38d533b8e9494ea981c941349af82f6d",
       "version_major": 2,
       "version_minor": 0
      },
      "text/plain": [
       "Styles()"
      ]
     },
     "metadata": {},
     "output_type": "display_data"
    },
    {
     "data": {
      "application/vnd.jupyter.widget-view+json": {
       "model_id": "58a963882c764a9381024a4ae6f652b1",
       "version_major": 2,
       "version_minor": 0
      },
      "text/plain": [
       "ResizeTrigger()"
      ]
     },
     "metadata": {},
     "output_type": "display_data"
    }
   ],
   "source": [
    "from component import io\n",
    "from component import tile"
   ]
  },
  {
   "cell_type": "code",
   "execution_count": 2,
   "id": "gothic-observer",
   "metadata": {},
   "outputs": [],
   "source": [
    "# debugging \n",
    "from sepal_ui import aoi \n",
    "po_aoi_io = aoi.Aoi_io(default_asset = \"users/bornToBeAlive/aoi_sandan\")"
   ]
  },
  {
   "cell_type": "code",
   "execution_count": 3,
   "id": "individual-syndrome",
   "metadata": {},
   "outputs": [],
   "source": [
    "explorer_tile = tile.ExplorerTile(po_aoi_io)"
   ]
  },
  {
   "cell_type": "code",
   "execution_count": 4,
   "id": "established-relay",
   "metadata": {},
   "outputs": [
    {
     "data": {
      "application/vnd.jupyter.widget-view+json": {
       "model_id": "49fa6e5a573a4e678f3c9bd8449586bd",
       "version_major": 2,
       "version_minor": 0
      },
      "text/plain": [
       "ExplorerTile(align_center=True, children=[Card(children=[Html(children=['Explore planet data'], tag='h2'), Fle…"
      ]
     },
     "metadata": {},
     "output_type": "display_data"
    }
   ],
   "source": [
    "explorer_tile"
   ]
  },
  {
   "cell_type": "code",
   "execution_count": null,
   "id": "seventh-conditions",
   "metadata": {},
   "outputs": [],
   "source": []
  }
 ],
 "metadata": {
  "kernelspec": {
   "display_name": "Python 3",
   "language": "python",
   "name": "python3"
  },
  "language_info": {
   "codemirror_mode": {
    "name": "ipython",
    "version": 3
   },
   "file_extension": ".py",
   "mimetype": "text/x-python",
   "name": "python",
   "nbconvert_exporter": "python",
   "pygments_lexer": "ipython3",
   "version": "3.6.9"
  }
 },
 "nbformat": 4,
 "nbformat_minor": 5
}
