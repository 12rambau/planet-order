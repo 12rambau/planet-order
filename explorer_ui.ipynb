{
 "cells": [
  {
   "cell_type": "code",
   "execution_count": null,
   "id": "indirect-gabriel",
   "metadata": {},
   "outputs": [],
   "source": [
    "from component import io\n",
    "from component import tile"
   ]
  },
  {
   "cell_type": "code",
   "execution_count": null,
   "id": "local-cooperation",
   "metadata": {},
   "outputs": [],
   "source": [
    "# debugging \n",
    "#from sepal_ui import aoi \n",
    "#po_aoi_io = aoi.Aoi_io(default_asset = \"users/bornToBeAlive/aoi_sandan\")"
   ]
  },
  {
   "cell_type": "code",
   "execution_count": null,
   "id": "everyday-mainland",
   "metadata": {},
   "outputs": [],
   "source": [
    "explorer_tile = tile.ExplorerTile(aoi_io)"
   ]
  },
  {
   "cell_type": "code",
   "execution_count": null,
   "id": "absent-colors",
   "metadata": {},
   "outputs": [],
   "source": [
    "explorer_tile"
   ]
  }
 ],
 "metadata": {
  "kernelspec": {
   "display_name": "Python 3",
   "language": "python",
   "name": "python3"
  },
  "language_info": {
   "codemirror_mode": {
    "name": "ipython",
    "version": 3
   },
   "file_extension": ".py",
   "mimetype": "text/x-python",
   "name": "python",
   "nbconvert_exporter": "python",
   "pygments_lexer": "ipython3",
   "version": "3.6.9"
  }
 },
 "nbformat": 4,
 "nbformat_minor": 5
}
