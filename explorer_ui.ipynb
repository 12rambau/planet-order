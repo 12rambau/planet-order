{
 "cells": [
  {
   "cell_type": "code",
   "execution_count": 1,
   "id": "honest-planner",
   "metadata": {},
   "outputs": [
    {
     "data": {
      "application/vnd.jupyter.widget-view+json": {
       "model_id": "fb97da9e3a36404daede75430b8d08b0",
       "version_major": 2,
       "version_minor": 0
      },
      "text/plain": [
       "Styles()"
      ]
     },
     "metadata": {},
     "output_type": "display_data"
    },
    {
     "data": {
      "application/vnd.jupyter.widget-view+json": {
       "model_id": "41a54936a5ea49648b606939eb83e074",
       "version_major": 2,
       "version_minor": 0
      },
      "text/plain": [
       "ResizeTrigger()"
      ]
     },
     "metadata": {},
     "output_type": "display_data"
    }
   ],
   "source": [
    "from component import io\n",
    "from component import tile"
   ]
  },
  {
   "cell_type": "code",
   "execution_count": 2,
   "id": "victorian-sequence",
   "metadata": {},
   "outputs": [],
   "source": [
    "# debugging \n",
    "#from sepal_ui import aoi \n",
    "#po_aoi_io = aoi.Aoi_io(default_asset = \"users/bornToBeAlive/aoi_sandan\")"
   ]
  },
  {
   "cell_type": "code",
   "execution_count": 3,
   "id": "sublime-alfred",
   "metadata": {},
   "outputs": [],
   "source": [
    "explorer_tile = tile.ExplorerTile()"
   ]
  },
  {
   "cell_type": "code",
   "execution_count": 4,
   "id": "technical-african",
   "metadata": {},
   "outputs": [
    {
     "data": {
      "application/vnd.jupyter.widget-view+json": {
       "model_id": "64e7c0fc927a4a5d881f64afdfdd940a",
       "version_major": 2,
       "version_minor": 0
      },
      "text/plain": [
       "ExplorerTile(align_center=True, children=[Card(children=[Html(children=['Explore planet data'], tag='h2'), Fle…"
      ]
     },
     "metadata": {},
     "output_type": "display_data"
    }
   ],
   "source": [
    "explorer_tile"
   ]
  },
  {
   "cell_type": "code",
   "execution_count": null,
   "id": "aging-factor",
   "metadata": {},
   "outputs": [],
   "source": []
  }
 ],
 "metadata": {
  "kernelspec": {
   "display_name": "Python 3",
   "language": "python",
   "name": "python3"
  },
  "language_info": {
   "codemirror_mode": {
    "name": "ipython",
    "version": 3
   },
   "file_extension": ".py",
   "mimetype": "text/x-python",
   "name": "python",
   "nbconvert_exporter": "python",
   "pygments_lexer": "ipython3",
   "version": "3.6.9"
  }
 },
 "nbformat": 4,
 "nbformat_minor": 5
}
