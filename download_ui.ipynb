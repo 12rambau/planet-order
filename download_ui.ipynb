{
 "cells": [
  {
   "cell_type": "code",
   "execution_count": null,
   "metadata": {},
   "outputs": [],
   "source": [
    "from functools import partial \n",
    "\n",
    "from sepal_ui import sepalwidgets as sw\n",
    "from sepal_ui import mapping as sm\n",
    "from scripts import messages as ms\n",
    "from scripts import planet\n",
    "import parameters as pm\n",
    "import ipyvuetify as v"
   ]
  },
  {
   "cell_type": "code",
   "execution_count": null,
   "metadata": {},
   "outputs": [],
   "source": [
    "class Order_io:\n",
    "    \n",
    "    def __init__(self):\n",
    "        self.order_index = None\n",
    "        self.orders = None\n",
    "        self.session = None\n",
    "        self.quads = None\n",
    "        \n",
    "po_order_io = Order_io()"
   ]
  },
  {
   "cell_type": "code",
   "execution_count": null,
   "metadata": {},
   "outputs": [],
   "source": [
    "id_ = 'result_widget'\n",
    "\n",
    "# create a button line \n",
    "down_theorical_grid = sw.DownloadBtn('download theorical grid')\n",
    "down_grid = sw.DownloadBtn('download planet grid')\n",
    "btn_line = v.Layout(Row=True, children=[down_theorical_grid, down_grid])\n",
    "\n",
    "# map to display the grid \n",
    "res_map = sm.SepalMap()\n",
    "\n",
    "res_tile = sw.Tile(\n",
    "    id_,\n",
    "    \"Download results\",\n",
    "    inputs = [btn_line, res_map]\n",
    ")"
   ]
  },
  {
   "cell_type": "code",
   "execution_count": null,
   "metadata": {},
   "outputs": [],
   "source": [
    "id_ = 'download_widget'\n",
    "\n",
    "#check input \n",
    "viz_output = sw.Alert()\n",
    "\n",
    "viz_txt = sw.Markdown(ms.VIZ_TXT) \n",
    "viz_btn = sw.Btn(ms.VIZ_BTN)\n",
    "\n",
    "viz_tile = sw.Tile(\n",
    "    id_,\n",
    "    \"Check inputs\",\n",
    "    inputs = [viz_txt],\n",
    "    output = viz_output,\n",
    "    btn = viz_btn\n",
    ")"
   ]
  },
  {
   "cell_type": "code",
   "execution_count": null,
   "metadata": {},
   "outputs": [],
   "source": [
    "#check input \n",
    "order_output = sw.Alert()\n",
    "\n",
    "order_txt = sw.Markdown(ms.ORDER_TXT) \n",
    "order_btn = sw.Btn(ms.ORDER_BTN, disabled=True)\n",
    "\n",
    "order_tile = sw.Tile(\n",
    "    id_,\n",
    "    \"Order Mosaic\",\n",
    "    inputs = [order_txt],\n",
    "    output = order_output,\n",
    "    btn = order_btn\n",
    ")"
   ]
  },
  {
   "cell_type": "code",
   "execution_count": null,
   "metadata": {},
   "outputs": [],
   "source": [
    "#check input \n",
    "down_output = sw.Alert()\n",
    "\n",
    "down_txt = sw.Markdown(ms.DOWN_TXT) \n",
    "down_orders = v.Select(items=[], label=ms.SELECT_ORDER, v_model=None)\n",
    "down_btn = sw.Btn(ms.DOWN_BTN, disabled=True)\n",
    "\n",
    "down_output.bind(down_orders, po_order_io, 'order_index')\n",
    "\n",
    "down_tile = sw.Tile(\n",
    "    id_,\n",
    "    \"Download Mosaic\",\n",
    "    inputs = [down_txt, down_orders],  \n",
    "    output = down_output,\n",
    "    btn = down_btn\n",
    ")"
   ]
  },
  {
   "cell_type": "code",
   "execution_count": null,
   "metadata": {},
   "outputs": [],
   "source": [
    "def viz_data(widget, event, data, output):\n",
    "\n",
    "    widget.toggle_loading()\n",
    "\n",
    "    # check input \n",
    "    if not output.check_input(po_aoi_io.get_aoi_ee(), ms.NO_AOI): return widget.toggle_loading()\n",
    "    \n",
    "    try:\n",
    "        # draw the grid on the map \n",
    "        grid_path = planet.get_theorical_grid(po_aoi_io, res_map, output)\n",
    "        down_theorical_grid.set_url(str(grid_path))\n",
    "    \n",
    "        # write msg\n",
    "        msg = planet.get_sum_up(po_aoi_io)\n",
    "        output.add_msg(msg, 'warning')\n",
    "\n",
    "        # release the second btn \n",
    "        order_btn.disabled = False\n",
    "    except Exception as e:\n",
    "        output.add_live_msg(str(e), 'error')\n",
    "        \n",
    "    widget.toggle_loading()\n",
    "\n",
    "    return \n",
    "\n",
    "viz_btn.on_event('click', partial(\n",
    "    viz_data,\n",
    "    output = viz_output\n",
    "))"
   ]
  },
  {
   "cell_type": "code",
   "execution_count": null,
   "metadata": {},
   "outputs": [],
   "source": [
    "def order_mosaic(widget, event, data, output):\n",
    "\n",
    "    widget.toggle_loading()\n",
    "\n",
    "    # check input \n",
    "    if not output.check_input(po_aoi_io.get_aoi_ee(), ms.NO_AOI): return widget.toggle_loading()\n",
    " \n",
    "    try:\n",
    "        # get the orders\n",
    "        orders, session = planet.get_orders(pm.PLANET_API_KEY, pm.BASEMAP_URL, output)\n",
    "        po_order_io.orders = orders\n",
    "        po_order_io.session = session\n",
    "        \n",
    "        # construct a order dict with only the name and the index\n",
    "        #orders = {order['name']: i for i, order in enumerate(orders)}\n",
    "        down_orders.items = [{'text': order['name'], 'value': i} for i, order in enumerate(orders)]\n",
    "        down_btn.disabled = False\n",
    "        \n",
    "        output.add_live_msg('Orders list updated', 'success')\n",
    "    \n",
    "    except Exception as e: \n",
    "        output.add_live_msg(str(e), 'error') \n",
    "\n",
    "    widget.toggle_loading()\n",
    "\n",
    "    return\n",
    "\n",
    "order_btn.on_event('click', partial(\n",
    "    order_mosaic,\n",
    "    output = order_output\n",
    "))"
   ]
  },
  {
   "cell_type": "code",
   "execution_count": null,
   "metadata": {},
   "outputs": [],
   "source": [
    "toto = None\n",
    "\n",
    "def down_mosaic(widget, event, data, output):\n",
    "\n",
    "    widget.toggle_loading()\n",
    "\n",
    "    # check input \n",
    "    if not output.check_input(po_aoi_io.get_aoi_ee(), ms.NO_AOI): return widget.toggle_loading()\n",
    "    if not output.check_input(po_order_io.order_index, ms.NO_ORDER): return widget.toggle_loading()\n",
    " \n",
    "    try:\n",
    "        mosaic_path, grid_path = planet.run_download(pm.PLANET_API_KEY, pm.BASEMAP_URL, po_aoi_io, po_order_io, res_map, output)\n",
    "        down_grid.set_url(str(grid_path))\n",
    "        \n",
    "    except Exception as e: \n",
    "        output.add_live_msg(str(e), 'error') \n",
    "\n",
    "    widget.toggle_loading()\n",
    "\n",
    "    return\n",
    "\n",
    "down_btn.on_event('click', partial(\n",
    "    down_mosaic,\n",
    "    output = down_output\n",
    "))"
   ]
  },
  {
   "cell_type": "code",
   "execution_count": null,
   "metadata": {},
   "outputs": [],
   "source": [
    "viz_tile"
   ]
  },
  {
   "cell_type": "code",
   "execution_count": null,
   "metadata": {},
   "outputs": [],
   "source": [
    "order_tile"
   ]
  },
  {
   "cell_type": "code",
   "execution_count": null,
   "metadata": {},
   "outputs": [],
   "source": [
    "down_tile"
   ]
  },
  {
   "cell_type": "code",
   "execution_count": null,
   "metadata": {},
   "outputs": [],
   "source": [
    "res_tile"
   ]
  },
  {
   "cell_type": "code",
   "execution_count": 3,
   "metadata": {},
   "outputs": [
    {
     "data": {
      "text/plain": [
       "'tutu'"
      ]
     },
     "execution_count": 3,
     "metadata": {},
     "output_type": "execute_result"
    }
   ],
   "source": [
    "from pathlib import Path\n",
    "\n",
    "tutu_dir = Path('~/toto/tutu').expanduser()\n",
    "tutu_dir.name"
   ]
  },
  {
   "cell_type": "code",
   "execution_count": null,
   "metadata": {},
   "outputs": [],
   "source": []
  }
 ],
 "metadata": {
  "kernelspec": {
   "display_name": "Python 3",
   "language": "python",
   "name": "python3"
  },
  "language_info": {
   "codemirror_mode": {
    "name": "ipython",
    "version": 3
   },
   "file_extension": ".py",
   "mimetype": "text/x-python",
   "name": "python",
   "nbconvert_exporter": "python",
   "pygments_lexer": "ipython3",
   "version": "3.6.9"
  }
 },
 "nbformat": 4,
 "nbformat_minor": 4
}
