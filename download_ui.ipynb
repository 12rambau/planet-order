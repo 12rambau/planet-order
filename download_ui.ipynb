{
 "cells": [
  {
   "cell_type": "code",
   "execution_count": null,
   "metadata": {},
   "outputs": [],
   "source": [
    "from functools import partial \n",
    "\n",
    "from sepal_ui import sepalwidgets as sw\n",
    "from scripts import messages as ms\n",
    "from scripts import planet\n",
    "import parameters as pm"
   ]
  },
  {
   "cell_type": "code",
   "execution_count": null,
   "metadata": {},
   "outputs": [],
   "source": [
    "#check input \n",
    "viz_output = sw.Alert()\n",
    "\n",
    "#btn \n",
    "viz_btn = sw.Btn(ms.VIZ_BTN)\n",
    "order_btn = sw.Btn(ms.ORDER_BTN, disabled = True, class_ = 'mt-3')\n",
    "\n",
    "viz_tile = sw.Tile(\n",
    "    \"download_widget\",\n",
    "    \"Download Mosaic\",\n",
    "    inputs = [viz_btn, order_btn],\n",
    "    output = viz_output\n",
    ")"
   ]
  },
  {
   "cell_type": "code",
   "execution_count": null,
   "metadata": {},
   "outputs": [],
   "source": [
    "def viz_data(widget, event, data, output):\n",
    "\n",
    "    widget.toggle_loading()\n",
    "\n",
    "    # check input \n",
    "    if not output.check_input(po_aoi_io.assetId, ms.NO_AOI): return widget.toggle_loading()\n",
    "\n",
    "    # write msg\n",
    "    msg = planet.get_sum_up(po_aoi_io)\n",
    "    output.add_msg(msg, 'warning')\n",
    "\n",
    "    # release the second btn \n",
    "    order_btn.disabled = False\n",
    "\n",
    "    widget.toggle_loading()\n",
    "\n",
    "    return \n",
    "\n",
    "viz_btn.on_event('click', partial(\n",
    "    viz_data,\n",
    "    output = viz_output\n",
    "))"
   ]
  },
  {
   "cell_type": "code",
   "execution_count": null,
   "metadata": {},
   "outputs": [],
   "source": [
    "def on_click(widget, event, data, output):\n",
    "\n",
    "    widget.toggle_loading()\n",
    "\n",
    "    # check input \n",
    "    if not output.check_input(po_aoi_io.assetId, ms.NO_AOI): return widget.toggle_loading()\n",
    " \n",
    "    try:\n",
    "        planet.run_download(pm.PLANET_API_KEY, pm.BASEMAP_URL, po_aoi_io, output)\n",
    "    except Exception as e: \n",
    "        output.add_live_msg(str(e), 'error') \n",
    "\n",
    "    widget.toggle_loading()\n",
    "\n",
    "    return\n",
    "\n",
    "order_btn.on_event('click', partial(\n",
    "    on_click,\n",
    "    output = viz_output\n",
    "))"
   ]
  },
  {
   "cell_type": "code",
   "execution_count": null,
   "metadata": {},
   "outputs": [],
   "source": [
    "viz_tile"
   ]
  },
  {
   "cell_type": "code",
   "execution_count": null,
   "metadata": {},
   "outputs": [],
   "source": []
  }
 ],
 "metadata": {
  "kernelspec": {
   "display_name": "Python 3",
   "language": "python",
   "name": "python3"
  },
  "language_info": {
   "codemirror_mode": {
    "name": "ipython",
    "version": 3
   },
   "file_extension": ".py",
   "mimetype": "text/x-python",
   "name": "python",
   "nbconvert_exporter": "python",
   "pygments_lexer": "ipython3",
   "version": "3.6.9"
  }
 },
 "nbformat": 4,
 "nbformat_minor": 2
}
