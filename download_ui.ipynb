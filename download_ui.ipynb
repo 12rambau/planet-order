{
 "cells": [
  {
   "cell_type": "code",
   "execution_count": 14,
   "metadata": {},
   "outputs": [],
   "source": [
    "from functools import partial \n",
    "\n",
    "from sepal_ui import sepalwidgets as sw\n",
    "from scripts import messages as ms\n",
    "from scripts import planet\n",
    "import parameters as pm"
   ]
  },
  {
   "cell_type": "code",
   "execution_count": 15,
   "metadata": {},
   "outputs": [],
   "source": [
    "#check input \n",
    "viz_output = sw.Alert()\n",
    "\n",
    "#btn \n",
    "viz_btn = sw.Btn(ms.VIZ_BTN)\n",
    "order_btn = sw.Btn(ms.ORDER_BTN, disabled = True, class_ = 'mt-3')\n",
    "\n",
    "viz_tile = sw.Tile(\n",
    "    \"download_widget\",\n",
    "    \"Download Mosaic\",\n",
    "    inputs = [viz_btn, order_btn],\n",
    "    output = viz_output\n",
    ")"
   ]
  },
  {
   "cell_type": "code",
   "execution_count": 16,
   "metadata": {},
   "outputs": [],
   "source": [
    "def viz_data(widget, event, data, output):\n",
    "\n",
    "    widget.toggle_loading()\n",
    "\n",
    "    # check input \n",
    "    if not output.check_input(po_aoi_io.assetId, ms.NO_AOI): return widget.toggle_loading()\n",
    "\n",
    "    # write msg\n",
    "    msg = planet.get_sum_up(po_aoi_io)\n",
    "    output.add_msg(msg, 'warning')\n",
    "\n",
    "    # release the second btn \n",
    "    order_btn.disabled = False\n",
    "\n",
    "    widget.toggle_loading()\n",
    "\n",
    "    return \n",
    "\n",
    "viz_btn.on_event('click', partial(\n",
    "    viz_data,\n",
    "    output = viz_output\n",
    "))"
   ]
  },
  {
   "cell_type": "code",
   "execution_count": 17,
   "metadata": {},
   "outputs": [],
   "source": [
    "def on_click(widget, event, data, output):\n",
    "\n",
    "    widget.toggle_loading()\n",
    "\n",
    "    # check input \n",
    "    if not output.check_input(po_aoi_io.assetId, ms.NO_AOI): return widget.toggle_loading()\n",
    " \n",
    "    planet.run_download(pm.PLANET_API_KEY, pm.BASEMAP_URL, po_aoi_io, output)\n",
    "\n",
    "    widget.toggle_loading()\n",
    "\n",
    "    return\n",
    "\n",
    "order_btn.on_event('click', partial(\n",
    "    on_click,\n",
    "    output = viz_output\n",
    "))"
   ]
  },
  {
   "cell_type": "code",
   "execution_count": 18,
   "metadata": {},
   "outputs": [
    {
     "data": {
      "application/vnd.jupyter.widget-view+json": {
       "model_id": "65fd1e782230427ea15d1b41b3a371c7",
       "version_major": 2,
       "version_minor": 0
      },
      "text/plain": [
       "Tile(align_center=True, children=[Card(children=[Html(children=['Download Mosaic'], tag='h2'), Flex(children=[…"
      ]
     },
     "metadata": {},
     "output_type": "display_data"
    },
    {
     "ename": "NameError",
     "evalue": "name 'po_aoi_io' is not defined",
     "output_type": "error",
     "traceback": [
      "\u001b[0;31m---------------------------------------------------------------------------\u001b[0m",
      "\u001b[0;31mNameError\u001b[0m                                 Traceback (most recent call last)",
      "\u001b[0;32m<ipython-input-16-cdb1705f6d21>\u001b[0m in \u001b[0;36mviz_data\u001b[0;34m(widget, event, data, output)\u001b[0m\n\u001b[1;32m      4\u001b[0m \u001b[0;34m\u001b[0m\u001b[0m\n\u001b[1;32m      5\u001b[0m     \u001b[0;31m# check input\u001b[0m\u001b[0;34m\u001b[0m\u001b[0;34m\u001b[0m\u001b[0;34m\u001b[0m\u001b[0m\n\u001b[0;32m----> 6\u001b[0;31m     \u001b[0;32mif\u001b[0m \u001b[0;32mnot\u001b[0m \u001b[0moutput\u001b[0m\u001b[0;34m.\u001b[0m\u001b[0mcheck_input\u001b[0m\u001b[0;34m(\u001b[0m\u001b[0mpo_aoi_io\u001b[0m\u001b[0;34m,\u001b[0m \u001b[0mms\u001b[0m\u001b[0;34m.\u001b[0m\u001b[0mNO_AOI\u001b[0m\u001b[0;34m)\u001b[0m\u001b[0;34m:\u001b[0m \u001b[0;32mreturn\u001b[0m \u001b[0mwidget\u001b[0m\u001b[0;34m.\u001b[0m\u001b[0mtoggle_loading\u001b[0m\u001b[0;34m(\u001b[0m\u001b[0;34m)\u001b[0m\u001b[0;34m\u001b[0m\u001b[0;34m\u001b[0m\u001b[0m\n\u001b[0m\u001b[1;32m      7\u001b[0m \u001b[0;34m\u001b[0m\u001b[0m\n\u001b[1;32m      8\u001b[0m     \u001b[0;31m# write msg\u001b[0m\u001b[0;34m\u001b[0m\u001b[0;34m\u001b[0m\u001b[0;34m\u001b[0m\u001b[0m\n",
      "\u001b[0;31mNameError\u001b[0m: name 'po_aoi_io' is not defined"
     ]
    }
   ],
   "source": [
    "viz_tile"
   ]
  },
  {
   "cell_type": "code",
   "execution_count": null,
   "metadata": {},
   "outputs": [],
   "source": []
  }
 ],
 "metadata": {
  "kernelspec": {
   "display_name": "Python 3",
   "language": "python",
   "name": "python3"
  },
  "language_info": {
   "codemirror_mode": {
    "name": "ipython",
    "version": 3
   },
   "file_extension": ".py",
   "mimetype": "text/x-python",
   "name": "python",
   "nbconvert_exporter": "python",
   "pygments_lexer": "ipython3",
   "version": "3.6.9"
  }
 },
 "nbformat": 4,
 "nbformat_minor": 2
}
