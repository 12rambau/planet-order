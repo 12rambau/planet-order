{
 "cells": [
  {
   "cell_type": "code",
   "execution_count": 1,
   "id": "governmental-bikini",
   "metadata": {},
   "outputs": [],
   "source": [
    "from component import parameter as cp "
   ]
  },
  {
   "cell_type": "code",
   "execution_count": 2,
   "id": "illegal-produce",
   "metadata": {},
   "outputs": [
    {
     "data": {
      "text/plain": [
       "'a4f13f25470b4c12b2dcd4032d5b75b1'"
      ]
     },
     "execution_count": 2,
     "metadata": {},
     "output_type": "execute_result"
    }
   ],
   "source": [
    "cp.default_planet_key"
   ]
  },
  {
   "cell_type": "code",
   "execution_count": 3,
   "id": "reverse-weight",
   "metadata": {},
   "outputs": [
    {
     "data": {
      "application/vnd.jupyter.widget-view+json": {
       "model_id": "53748f22a1d44845901cf700d03b1869",
       "version_major": 2,
       "version_minor": 0
      },
      "text/plain": [
       "Styles()"
      ]
     },
     "metadata": {},
     "output_type": "display_data"
    },
    {
     "data": {
      "application/vnd.jupyter.widget-view+json": {
       "model_id": "e63cbbde25244fa287d751d8ef34bb01",
       "version_major": 2,
       "version_minor": 0
      },
      "text/plain": [
       "ResizeTrigger()"
      ]
     },
     "metadata": {},
     "output_type": "display_data"
    }
   ],
   "source": [
    "from component import widget as cw"
   ]
  },
  {
   "cell_type": "code",
   "execution_count": 4,
   "id": "color-married",
   "metadata": {},
   "outputs": [
    {
     "data": {
      "application/vnd.jupyter.widget-view+json": {
       "model_id": "1565346b511e44f09325cb2085f975a7",
       "version_major": 2,
       "version_minor": 0
      },
      "text/plain": [
       "CustomPassword(append_icon='mdi-eye-off', class_='mr-2', label='API key', type='password', v_model='a4f13f2547…"
      ]
     },
     "metadata": {},
     "output_type": "display_data"
    }
   ],
   "source": [
    "toto = cw.CustomPassword()\n",
    "toto"
   ]
  },
  {
   "cell_type": "code",
   "execution_count": 5,
   "id": "molecular-region",
   "metadata": {},
   "outputs": [
    {
     "data": {
      "application/vnd.jupyter.widget-view+json": {
       "model_id": "044670ae39a74620ab1b3e3ceaf38d47",
       "version_major": 2,
       "version_minor": 0
      },
      "text/plain": [
       "DynamicSelect(align_center=True, children=[Btn(children=[Icon(children=['mdi-chevron-left']), 'prev'], class_=…"
      ]
     },
     "metadata": {},
     "output_type": "display_data"
    }
   ],
   "source": [
    "tutu = cw.DynamicSelect()\n",
    "tutu"
   ]
  },
  {
   "cell_type": "code",
   "execution_count": 6,
   "id": "solar-coupon",
   "metadata": {},
   "outputs": [],
   "source": [
    "tutu.set_items(list(range(5)));"
   ]
  },
  {
   "cell_type": "code",
   "execution_count": 7,
   "id": "other-public",
   "metadata": {},
   "outputs": [],
   "source": [
    "tutu.v_model"
   ]
  },
  {
   "cell_type": "code",
   "execution_count": null,
   "id": "interpreted-charlotte",
   "metadata": {},
   "outputs": [],
   "source": []
  }
 ],
 "metadata": {
  "kernelspec": {
   "display_name": "Python 3",
   "language": "python",
   "name": "python3"
  },
  "language_info": {
   "codemirror_mode": {
    "name": "ipython",
    "version": 3
   },
   "file_extension": ".py",
   "mimetype": "text/x-python",
   "name": "python",
   "nbconvert_exporter": "python",
   "pygments_lexer": "ipython3",
   "version": "3.6.9"
  }
 },
 "nbformat": 4,
 "nbformat_minor": 5
}
