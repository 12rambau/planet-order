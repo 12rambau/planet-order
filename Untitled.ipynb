{
 "cells": [
  {
   "cell_type": "code",
   "execution_count": 1,
   "id": "southwest-rating",
   "metadata": {},
   "outputs": [],
   "source": [
    "from component import parameter as cp "
   ]
  },
  {
   "cell_type": "code",
   "execution_count": 2,
   "id": "smart-north",
   "metadata": {},
   "outputs": [
    {
     "data": {
      "text/plain": [
       "'a4f13f25470b4c12b2dcd4032d5b75b1'"
      ]
     },
     "execution_count": 2,
     "metadata": {},
     "output_type": "execute_result"
    }
   ],
   "source": [
    "cp.default_planet_key"
   ]
  },
  {
   "cell_type": "code",
   "execution_count": 3,
   "id": "reliable-japanese",
   "metadata": {},
   "outputs": [
    {
     "data": {
      "application/vnd.jupyter.widget-view+json": {
       "model_id": "0f98a9bbe36b469b8e3b7018591305c3",
       "version_major": 2,
       "version_minor": 0
      },
      "text/plain": [
       "Styles()"
      ]
     },
     "metadata": {},
     "output_type": "display_data"
    },
    {
     "data": {
      "application/vnd.jupyter.widget-view+json": {
       "model_id": "0083365c2c3747bcb201a6c80a95fe75",
       "version_major": 2,
       "version_minor": 0
      },
      "text/plain": [
       "ResizeTrigger()"
      ]
     },
     "metadata": {},
     "output_type": "display_data"
    }
   ],
   "source": [
    "from component import widget as cw"
   ]
  },
  {
   "cell_type": "code",
   "execution_count": 4,
   "id": "afraid-arrow",
   "metadata": {},
   "outputs": [
    {
     "data": {
      "application/vnd.jupyter.widget-view+json": {
       "model_id": "b5abda046bfa4baeb93687e11f36d335",
       "version_major": 2,
       "version_minor": 0
      },
      "text/plain": [
       "CustomPassword(append_icon='mdi-eye-off', class_='mr-2', label='API key', type='password', v_model='a4f13f2547…"
      ]
     },
     "metadata": {},
     "output_type": "display_data"
    }
   ],
   "source": [
    "toto = cw.CustomPassword()\n",
    "toto"
   ]
  },
  {
   "cell_type": "code",
   "execution_count": null,
   "id": "missing-platform",
   "metadata": {},
   "outputs": [],
   "source": []
  }
 ],
 "metadata": {
  "kernelspec": {
   "display_name": "Python 3",
   "language": "python",
   "name": "python3"
  },
  "language_info": {
   "codemirror_mode": {
    "name": "ipython",
    "version": 3
   },
   "file_extension": ".py",
   "mimetype": "text/x-python",
   "name": "python",
   "nbconvert_exporter": "python",
   "pygments_lexer": "ipython3",
   "version": "3.6.9"
  }
 },
 "nbformat": 4,
 "nbformat_minor": 5
}
