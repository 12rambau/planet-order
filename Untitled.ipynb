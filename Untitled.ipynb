{
 "cells": [
  {
   "cell_type": "code",
   "execution_count": 43,
   "id": "accepted-sleeping",
   "metadata": {},
   "outputs": [],
   "source": [
    "import requests \n",
    "\n",
    "from component import parameter as cp\n",
    "\n",
    "url = 'https://api.planet.com/auth/v1/experimental/public/my/subscriptions'\n",
    "\n",
    "resp = requests.get(url, auth=(cp.default_planet_key, ''))"
   ]
  },
  {
   "cell_type": "code",
   "execution_count": 44,
   "id": "effective-radiation",
   "metadata": {},
   "outputs": [],
   "source": [
    "from planet import api\n",
    "\n",
    "client = api.ClientV1(api_key=cp.default_planet_key)"
   ]
  },
  {
   "cell_type": "code",
   "execution_count": 45,
   "id": "registered-admission",
   "metadata": {},
   "outputs": [
    {
     "data": {
      "text/plain": [
       "['planet_medres_normalized_analytic_2015-12_2016-05_mosaic',\n",
       " 'planet_medres_normalized_analytic_2016-06_2016-11_mosaic',\n",
       " 'planet_medres_normalized_analytic_2016-12_2017-05_mosaic',\n",
       " 'planet_medres_normalized_analytic_2017-06_2017-11_mosaic',\n",
       " 'planet_medres_normalized_analytic_2017-12_2018-05_mosaic',\n",
       " 'planet_medres_normalized_analytic_2018-06_2018-11_mosaic',\n",
       " 'planet_medres_normalized_analytic_2018-12_2019-05_mosaic',\n",
       " 'planet_medres_normalized_analytic_2019-06_2019-11_mosaic',\n",
       " 'planet_medres_normalized_analytic_2019-12_2020-05_mosaic',\n",
       " 'planet_medres_normalized_analytic_2020-06_2020-08_mosaic',\n",
       " 'planet_medres_normalized_analytic_2020-09_mosaic',\n",
       " 'planet_medres_normalized_analytic_2020-10_mosaic',\n",
       " 'planet_medres_normalized_analytic_2020-11_mosaic',\n",
       " 'planet_medres_normalized_analytic_2020-12_mosaic',\n",
       " 'planet_medres_normalized_analytic_2021-01_mosaic',\n",
       " 'planet_medres_normalized_analytic_2021-02_mosaic',\n",
       " 'tunisia_echararda_2019_01_normalized_analytic_mosaic',\n",
       " 'tunisia_echararda_2019_04_normalized_analytic_mosaic',\n",
       " 'tunisia_echararda_2019_07_normalized_analytic_mosaic',\n",
       " 'tunisia_echararda_2019_10_normalized_analytic_mosaic',\n",
       " 'tunisia_echararda_2020_01_normalized_analytic_mosaic',\n",
       " 'tunisia_echararda_2020_04_normalized_analytic_mosaic',\n",
       " 'tunisia_echararda_2020_07_normalized_analytic_mosaic',\n",
       " 'tunisia_echararda_2020_10_normalized_analytic_mosaic']"
      ]
     },
     "execution_count": 45,
     "metadata": {},
     "output_type": "execute_result"
    }
   ],
   "source": [
    "[m['name'] for m in client.get_mosaics().get()['mosaics']]"
   ]
  },
  {
   "cell_type": "code",
   "execution_count": 47,
   "id": "rational-republic",
   "metadata": {},
   "outputs": [
    {
     "data": {
      "text/plain": [
       "{'_links': {'_self': 'https://api.planet.com/basemaps/v1/mosaics/7d124d52-a7d6-4b1d-875c-4f5307c28431?api_key=a4f13f25470b4c12b2dcd4032d5b75b1',\n",
       "  'quads': 'https://api.planet.com/basemaps/v1/mosaics/7d124d52-a7d6-4b1d-875c-4f5307c28431/quads?api_key=a4f13f25470b4c12b2dcd4032d5b75b1&bbox={lx},{ly},{ux},{uy}',\n",
       "  'tiles': 'https://tiles.planet.com/basemaps/v1/planet-tiles/planet_medres_normalized_analytic_2017-12_2018-05_mosaic/gmap/{z}/{x}/{y}.png?api_key=a4f13f25470b4c12b2dcd4032d5b75b1'},\n",
       " 'bbox': [-179.999999974944,\n",
       "  -30.145127179527,\n",
       "  179.999999975056,\n",
       "  30.145127179625],\n",
       " 'coordinate_system': 'EPSG:3857',\n",
       " 'datatype': 'uint16',\n",
       " 'first_acquired': '2017-12-01T00:00:00.000Z',\n",
       " 'grid': {'quad_size': 4096, 'resolution': 4.777314267823516},\n",
       " 'id': '7d124d52-a7d6-4b1d-875c-4f5307c28431',\n",
       " 'interval': '1 mon',\n",
       " 'item_types': ['PSScene4Band'],\n",
       " 'last_acquired': '2018-06-01T00:00:00.000Z',\n",
       " 'level': 15,\n",
       " 'name': 'planet_medres_normalized_analytic_2017-12_2018-05_mosaic',\n",
       " 'product_type': 'timelapse',\n",
       " 'quad_download': True}"
      ]
     },
     "execution_count": 47,
     "metadata": {},
     "output_type": "execute_result"
    }
   ],
   "source": [
    "client.get_mosaics().get()['mosaics'][4]"
   ]
  },
  {
   "cell_type": "code",
   "execution_count": null,
   "id": "employed-letters",
   "metadata": {},
   "outputs": [],
   "source": [
    "client.get_quad_by_id(client.get_mosaics().get()['mosaics'][17], \"1080-1237\").get()"
   ]
  },
  {
   "cell_type": "code",
   "execution_count": 1,
   "id": "broke-collar",
   "metadata": {},
   "outputs": [
    {
     "data": {
      "text/plain": [
       "True"
      ]
     },
     "execution_count": 1,
     "metadata": {},
     "output_type": "execute_result"
    }
   ],
   "source": [
    "from pathlib import Path\n",
    "\n",
    "full_grid = Path('~/modules/planet-order/utils/grid.geojson').expanduser()\n",
    "new_full_grid = Path('~/modules/planet-order/utils/grid_edited.geojson').expanduser()\n",
    "full_grid.is_file()"
   ]
  },
  {
   "cell_type": "code",
   "execution_count": 2,
   "id": "anticipated-disaster",
   "metadata": {},
   "outputs": [],
   "source": [
    "#import geopandas as gpd\n",
    "#\n",
    "#toto = gpd.read_file(full_grid)"
   ]
  }
 ],
 "metadata": {
  "kernelspec": {
   "display_name": "Python 3",
   "language": "python",
   "name": "python3"
  },
  "language_info": {
   "codemirror_mode": {
    "name": "ipython",
    "version": 3
   },
   "file_extension": ".py",
   "mimetype": "text/x-python",
   "name": "python",
   "nbconvert_exporter": "python",
   "pygments_lexer": "ipython3",
   "version": "3.6.9"
  }
 },
 "nbformat": 4,
 "nbformat_minor": 5
}
